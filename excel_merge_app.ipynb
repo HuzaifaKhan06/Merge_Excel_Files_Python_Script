#!/usr/bin/env python3
"""
excel_merge_app.py

Excel Merge Tool by Huzaifa
... (header unchanged)
"""

import os
import sys
import json
import threading
import queue
import time
import math
import re
import logging
import traceback
from datetime import datetime
import subprocess
import webbrowser  # used to open created sheet links

try:
    import tkinter as tk
    from tkinter import ttk, filedialog, messagebox, simpledialog
except Exception as e:
    print("tkinter is required to run this app. On Linux install python3-tk.")
    raise

# Data & emailing dependencies
try:
    import pandas as pd
except Exception as e:
    message = ("pandas is required. Install via: pip install pandas openpyxl xlrd "
               "and other requirements from requirements.txt")
    raise ImportError(message)

# Google API imports (new)
try:
    from google.oauth2.credentials import Credentials
    from google_auth_oauthlib.flow import InstalledAppFlow
    from google.auth.transport.requests import Request
    from googleapiclient.discovery import build
except Exception:
    # We'll handle missing Google libraries gracefully by raising when used.
    Credentials = None
    InstalledAppFlow = None
    Request = None
    build = None

# Optional yagmail & watchdog (we handle gracefully if missing)
try:
    import yagmail
except Exception:
    yagmail = None

try:
    from watchdog.observers import Observer
    from watchdog.events import FileSystemEventHandler
except Exception:
    Observer = None
    FileSystemEventHandler = object  # fallback base

# For generic smtp fallback
import smtplib
from email.message import EmailMessage

# ----------------------------
# Logging configuration
# ----------------------------
LOG_FILE = "excel_merge_app.log"
logging.basicConfig(
    level=logging.INFO,
    format="%(asctime)s - %(levelname)s - %(message)s",
    handlers=[
        logging.FileHandler(LOG_FILE, encoding="utf-8"),
        logging.StreamHandler(sys.stdout)
    ]
)
logger = logging.getLogger("ExcelMergeApp")

# ----------------------------
# Constants & defaults
# ----------------------------
CONFIG_FILE = "config.json"
CONFIG_TEMPLATE = "config_template.json"
BACKUPS_DIR = "backups"
DEFAULT_PAGE_SIZE = 100
PREVIEW_ROWS = 10
EMAIL_SUBJECT = "Merged Excel - Master File"
EMAIL_BODY = "Attached is the merged master Excel file."

EMAIL_REGEX = re.compile(r"^[^@]+@[^@]+\.[^@]+$")  # simple validation

# Google Sheets scopes (least privilege for creation + sheet writes)
GSHEETS_SCOPES = [
    "https://www.googleapis.com/auth/spreadsheets",
    "https://www.googleapis.com/auth/drive.file"
]

# ----------------------------
# Helper functions
# ----------------------------
def timestamp_suffix():
    return datetime.now().strftime("%Y-%m-%d_%H-%M-%S")


def create_backups_folder():
    if not os.path.exists(BACKUPS_DIR):
        os.makedirs(BACKUPS_DIR, exist_ok=True)


def open_folder(path):
    """Open a folder in OS file browser (Windows/macOS/Linux)."""
    try:
        if sys.platform.startswith("win"):
            os.startfile(path)
        elif sys.platform == "darwin":
            subprocess.run(["open", path])
        else:
            # Linux
            subprocess.run(["xdg-open", path])
    except Exception as e:
        logger.exception("Failed to open folder: %s", e)
        messagebox.showinfo("Open Folder", f"Folder: {path}")


def format_count(n):
    return f"{n:,}"


def safe_save_dataframe_to_excel(df: pd.DataFrame, path: str):
    """Save dataframe to an excel file safely (engine openpyxl)."""
    try:
        df.to_excel(path, index=False, engine="openpyxl")
    except Exception as e:
        # Try fallback (pandas default)
        df.to_excel(path, index=False)


def safe_save_dataframe_to_path(df: pd.DataFrame, path: str):
    """Save dataframe to either .xlsx or .csv depending on filename."""
    try:
        lower = path.lower()
        if lower.endswith(".csv"):
            # Save CSV (utf-8)
            df.to_csv(path, index=False, encoding="utf-8")
        else:
            # Default to excel
            safe_save_dataframe_to_excel(df, path)
    except Exception as e:
        logger.exception("Error saving file %s: %s", path, e)
        raise

# ----------------------------
# Google Sheets helpers (NEW)
# ----------------------------
def get_gsheets_credentials(credentials_json="credentials.json", token_json="token.json"):
    """
    Get Google credentials for Sheets/Drive (installed-app OAuth).
    Saves token_json after first successful run.
    Raises FileNotFoundError if credentials.json not found.
    """
    if InstalledAppFlow is None or Credentials is None or Request is None:
        raise RuntimeError("Google auth libraries not installed. Run: pip install google-api-python-client google-auth-httplib2 google-auth-oauthlib")
    creds = None
    if os.path.exists(token_json):
        try:
            creds = Credentials.from_authorized_user_file(token_json, GSHEETS_SCOPES)
        except Exception:
            creds = None
    if not creds or not creds.valid:
        if creds and creds.expired and creds.refresh_token:
            creds.refresh(Request())
        else:
            if not os.path.exists(credentials_json):
                raise FileNotFoundError(f"{credentials_json} not found. Download OAuth client JSON from Google Cloud Console and place it in the application folder.")
            flow = InstalledAppFlow.from_client_secrets_file(credentials_json, GSHEETS_SCOPES)
            creds = flow.run_local_server(port=0)
        # Save token for reuse
        with open(token_json, "w", encoding="utf-8") as f:
            f.write(creds.to_json())
    return creds


def save_df_to_google_sheets_oauth(df: pd.DataFrame, spreadsheet_title=None, sheet_name="Sheet1",
                                   credentials_json="credentials.json", token_json="token.json"):
    """
    Create a new spreadsheet in the authenticated user's Drive and write df to it.
    Returns (spreadsheet_id, spreadsheet_url, spreadsheet_title).
    """
    if build is None:
        raise RuntimeError("googleapiclient not available. Install google-api-python-client.")
    if spreadsheet_title is None:
        spreadsheet_title = f"master_{timestamp_suffix()}"

    creds = get_gsheets_credentials(credentials_json, token_json)
    service = build("sheets", "v4", credentials=creds)

    # Create spreadsheet
    spreadsheet_body = {"properties": {"title": spreadsheet_title}}
    spreadsheet = service.spreadsheets().create(body=spreadsheet_body, fields="spreadsheetId,spreadsheetUrl").execute()
    spreadsheet_id = spreadsheet["spreadsheetId"]
    spreadsheet_url = spreadsheet.get("spreadsheetUrl")

    # Prepare values (header + rows)
    values = [list(df.columns)]
    for row in df.itertuples(index=False, name=None):
        values.append([("" if v is None else v) for v in row])

    body = {"values": values}
    # Write to sheet A1
    service.spreadsheets().values().update(
        spreadsheetId=spreadsheet_id,
        range=f"{sheet_name}!A1",
        valueInputOption="RAW",
        body=body
    ).execute()

    return spreadsheet_id, spreadsheet_url, spreadsheet_title


def update_existing_spreadsheet_by_id(df: pd.DataFrame, spreadsheet_id: str, sheet_name="Sheet1",
                                      credentials_json="credentials.json", token_json="token.json"):
    """
    Update/overwrite an existing spreadsheet by spreadsheet_id.
    Requires the authenticated app to have permission to that spreadsheet.
    Returns the sheet URL.
    """
    creds = get_gsheets_credentials(credentials_json, token_json)
    service = build("sheets", "v4", credentials=creds)

    values = [list(df.columns)]
    for row in df.itertuples(index=False, name=None):
        values.append([("" if v is None else v) for v in row])

    body = {"values": values}
    service.spreadsheets().values().update(
        spreadsheetId=spreadsheet_id,
        range=f"{sheet_name}!A1",
        valueInputOption="RAW",
        body=body
    ).execute()

    url = f"https://docs.google.com/spreadsheets/d/{spreadsheet_id}"
    return url

# ----------------------------
# Config management
# ----------------------------
def load_config():
    """Load configuration from config.json. If not exists, return defaults."""
    defaults = {
        "use_gmail": True,
        "sender_email": "",
        "app_password": "",
        "save_password": False,
        "smtp": {
            "host": "",
            "port": 587,
            "username": "",
            "password": "",
            "use_tls": True,
            "use_ssl": False
        },
        "backups_enabled": True,
        "watch_folder": {
            "enabled": False,
            "path": "",
            "auto_email_on_watch": False,
            "auto_email_recipients": ""
        },
        "page_size_default": DEFAULT_PAGE_SIZE
    }
    if os.path.exists(CONFIG_FILE):
        try:
            with open(CONFIG_FILE, "r", encoding="utf-8") as f:
                cfg = json.load(f)
            # Merge with defaults to ensure keys exist
            merged = defaults.copy()
            merged.update(cfg)
            # merge nested smtp and watch_folder
            merged["smtp"] = {**defaults["smtp"], **cfg.get("smtp", {})}
            merged["watch_folder"] = {**defaults["watch_folder"], **cfg.get("watch_folder", {})}
            return merged
        except Exception as e:
            logger.exception("Error loading config.json: %s", e)
            return defaults
    else:
        return defaults


def save_config(cfg: dict):
    try:
        with open(CONFIG_FILE, "w", encoding="utf-8") as f:
            json.dump(cfg, f, indent=2)
        logger.info("Configuration saved to %s", CONFIG_FILE)
    except Exception as e:
        logger.exception("Error saving config: %s", e)


# ----------------------------
# Watchdog handler (if available)
# ----------------------------
class ExcelWatchHandler(FileSystemEventHandler):
    """Handles filesystem events for watch folder. Debounces rapid events."""

    def __init__(self, app, debounce_secs=1.0):
        super().__init__()
        self.app = app
        self.debounce_secs = debounce_secs
        self.last_event_time = {}
        self.lock = threading.Lock()

    def should_handle(self, path):
        lower = path.lower()
        return lower.endswith(".xlsx") or lower.endswith(".xls")

    def _debounced(self, path):
        with self.lock:
            now = time.time()
            last = self.last_event_time.get(path, 0)
            if now - last < self.debounce_secs:
                return False
            self.last_event_time[path] = now
            return True

    def on_created(self, event):
        if not event.is_directory and self.should_handle(event.src_path):
            if self._debounced(event.src_path):
                logger.info("Watch: created %s", event.src_path)
                self.app.queue.put(("watch_event", event.src_path))

    def on_modified(self, event):
        if not event.is_directory and self.should_handle(event.src_path):
            if self._debounced(event.src_path):
                logger.info("Watch: modified %s", event.src_path)
                self.app.queue.put(("watch_event", event.src_path))


# ----------------------------
# Main App Class
# ----------------------------
class ExcelMergeApp(tk.Tk):
    def __init__(self):
        super().__init__()
        self.title("Excel Merge Tool by Huzaifa")
        self.geometry("1100x700")
        self.minsize(900, 600)

        # Application state
        self.selected_files = []         # list[str]
        self.master_df = None            # pandas.DataFrame
        self.queue = queue.Queue()       # thread -> main UI queue
        self.config = load_config()
        self.watch_observer = None
        self.watch_handler = None
        self.watch_thread = None
        self._watching = False

        # Track created Google Sheets (in-session)
        # Each item: {"title": ..., "url": ..., "id": ...}
        self.created_gs_files = []

        # UI elements references
        self.progress = None
        self.status_label = None
        self.counts_label = None
        self.preview_tree = None
        self.last_action_label = None
        self.page_size_var = tk.IntVar(value=self.config.get("page_size_default", DEFAULT_PAGE_SIZE))

        # Setup UI
        self.create_widgets()

        # Start queue processor
        self.after(150, self._process_queue)

        # If config says to enable watch folder on startup, start it
        if self.config.get("watch_folder", {}).get("enabled", False):
            watch_path = self.config["watch_folder"].get("path", "")
            if watch_path and Observer:
                try:
                    self.start_watch(watch_path)
                except Exception as ex:
                    logger.exception("Could not start watch on startup: %s", ex)

    # ----------------------------
    # UI creation
    # ----------------------------
    def create_widgets(self):
        # Top frame with buttons
        top_frame = ttk.Frame(self)
        top_frame.pack(side="top", fill="x", padx=8, pady=6)

        btn_select = ttk.Button(top_frame, text="Select Files", command=self.select_files)
        btn_select.pack(side="left", padx=4)

        # Google Sheets button (NEW)
        btn_gs = ttk.Button(top_frame, text="Save → Google Sheets", command=self.save_to_gs_handler)
        btn_gs.pack(side="left", padx=4)

        btn_update_gs = ttk.Button(top_frame, text="Update existing Google Sheet", command=self.update_gs_by_id_handler)
        btn_update_gs.pack(side="left", padx=4)

        btn_show_created = ttk.Button(top_frame, text="Show Created Sheets", command=self.show_created_sheets)
        btn_show_created.pack(side="left", padx=4)

        # Watch folder: toggle + choose
        self.watch_var = tk.BooleanVar(value=self.config.get("watch_folder", {}).get("enabled", False))
        self.watch_toggle = ttk.Checkbutton(top_frame, text="Watch Folder", variable=self.watch_var, command=self.on_watch_toggle)
        self.watch_toggle.pack(side="left", padx=(8,0))

        btn_choose_watch = ttk.Button(top_frame, text="Choose Watch Folder", command=self.choose_watch_folder)
        btn_choose_watch.pack(side="left", padx=4)

        btn_merge = ttk.Button(top_frame, text="Merge Now", command=self.merge_now)
        btn_merge.pack(side="left", padx=8)

        btn_save = ttk.Button(top_frame, text="Save", command=self.save_master)
        btn_save.pack(side="left", padx=8)

        btn_save_email = ttk.Button(top_frame, text="Save & Email", command=self.save_and_email)
        btn_save_email.pack(side="left", padx=8)

        btn_settings = ttk.Button(top_frame, text="Settings ⚙", command=self.open_settings_dialog)
        btn_settings.pack(side="right", padx=4)

        # Middle: Status area with spinner + textual status + counts
        status_frame = ttk.Frame(self)
        status_frame.pack(side="top", fill="x", padx=8, pady=6)

        self.progress = ttk.Progressbar(status_frame, mode="indeterminate")
        self.progress.pack(side="left", padx=(0,6))
        # don't start yet

        self.status_label = ttk.Label(status_frame, text="Ready.")
        self.status_label.pack(side="left", padx=6)

        # counts on right
        self.counts_label = ttk.Label(status_frame, text="Files: 0 | Rows: 0 | Cols: 0")
        self.counts_label.pack(side="right", padx=6)

        # Preview area
        preview_frame = ttk.LabelFrame(self, text=f"Preview (first {PREVIEW_ROWS} rows)")
        preview_frame.pack(side="top", fill="both", expand=True, padx=8, pady=6)

        # Treeview with scrollbar
        tv_frame = ttk.Frame(preview_frame)
        tv_frame.pack(fill="both", expand=True)

        self.preview_tree = ttk.Treeview(tv_frame, show="headings")
        self.preview_tree.pack(side="left", fill="both", expand=True)

        vsb = ttk.Scrollbar(tv_frame, orient="vertical", command=self.preview_tree.yview)
        vsb.pack(side="right", fill="y")
        self.preview_tree.configure(yscrollcommand=vsb.set)

        # View full merged button & page size
        controls_frame = ttk.Frame(self)
        controls_frame.pack(side="top", fill="x", padx=8, pady=(0,8))

        view_full_btn = ttk.Button(controls_frame, text="View Full Merged (Open Window)", command=self.open_full_view)
        view_full_btn.pack(side="left")

        ttk.Label(controls_frame, text="Page size:").pack(side="left", padx=(12,2))
        self.page_size_spin = ttk.Spinbox(controls_frame, from_=10, to=5000, textvariable=self.page_size_var, width=8)
        self.page_size_spin.pack(side="left", padx=(0,6))

        # Footer: last action + open backups folder
        footer = ttk.Frame(self)
        footer.pack(side="bottom", fill="x", padx=8, pady=6)

        self.last_action_label = ttk.Label(footer, text="Last action: none")
        self.last_action_label.pack(side="left")

        open_backups_btn = ttk.Button(footer, text="Open backups folder", command=self.open_backups_folder)
        open_backups_btn.pack(side="right")

    # ----------------------------
    # Queue processing to update UI from worker threads
    # ----------------------------
    def _process_queue(self):
        """Process messages from worker threads."""
        try:
            while True:
                item = self.queue.get_nowait()
                if not item:
                    continue
                tag = item[0]
                data = item[1] if len(item) > 1 else None

                if tag == "status":
                    self.status_label.config(text=str(data))
                elif tag == "start_spinner":
                    try:
                        self.progress.start(10)
                        self.progress.pack(side="left", padx=(0,6))
                    except Exception:
                        pass
                elif tag == "stop_spinner":
                    try:
                        self.progress.stop()
                        self.progress.pack_forget()
                    except Exception:
                        pass
                elif tag == "merged":
                    df = data
                    self.on_merge_finished(df)
                elif tag == "error":
                    msg = data
                    logger.error("Worker error: %s", msg)
                    messagebox.showerror("Error", str(msg))
                    self.status_label.config(text="Error occurred.")
                elif tag == "email_status":
                    self.status_label.config(text=str(data))
                elif tag == "email_result":
                    success_count, failed = data
                    # Stop spinner
                    try:
                        self.progress.stop()
                        self.progress.pack_forget()
                    except Exception:
                        pass
                    if failed:
                        messagebox.showwarning("Email Result", f"Email sent to {success_count} recipients. Failed for: {', '.join(failed)}")
                        self.status_label.config(text=f"Email completed with failures.")
                    else:
                        messagebox.showinfo("Email Result", f"Email sent to {success_count} recipients.")
                        self.status_label.config(text=f"Email sent to {success_count} recipients.")
                    logger.info("Email result: sent=%d failed=%s", success_count, failed)
                elif tag == "watch_event":
                    path = data
                    self.handle_watch_event(path)
                else:
                    logger.debug("Queue unknown tag: %s", tag)
        except queue.Empty:
            pass
        # schedule next poll
        self.after(150, self._process_queue)

    # ----------------------------
    # File selection & merge
    # ----------------------------
    def select_files(self):
        paths = filedialog.askopenfilenames(
            title="Select Excel files",
            filetypes=[("Excel files", "*.xlsx *.xls"), ("All files", "*.*")]
        )
        if paths:
            # Filter to only excel files (.xlsx/.xls) to prevent accidental CSV selection for merging
            filtered = [p for p in paths if p.lower().endswith((".xlsx", ".xls"))]
            if len(filtered) != len(paths):
                messagebox.showwarning("File selection", "Some selected files were not .xlsx/.xls and were ignored.")
            self.selected_files = list(filtered)
            self.status_label.config(text=f"{len(self.selected_files)} files selected")
            self.counts_label.config(text=f"Files: {len(self.selected_files)} | Rows: 0 | Cols: 0")
            logger.info("Selected files: %s", self.selected_files)
        else:
            self.status_label.config(text="No files selected")

    def merge_now(self):
        if not self.selected_files:
            messagebox.showinfo("No files", "Please select at least one Excel file first.")
            return
        # Start worker thread to merge
        t = threading.Thread(target=self._merge_worker, args=(list(self.selected_files),), daemon=True)
        t.start()

    def _merge_worker(self, files):
        """Worker that reads each file and merges them. Sends progress to queue."""
        self.queue.put(("start_spinner",))
        total_files = len(files)
        logger.info("Merge started for %d files", total_files)
        dfs = []
        read_counts = []
        try:
            self.queue.put(("status", f"Starting merge of {total_files} files..."))
            for i, fpath in enumerate(files, start=1):
                basename = os.path.basename(fpath)
                self.queue.put(("status", f"Reading file {i}/{total_files}: {basename}"))
                logger.info("Reading file %s (%d/%d)", basename, i, total_files)
                try:
                    # choose engine by extension (only Excel)
                    lower = fpath.lower()
                    if lower.endswith(".xls"):
                        # .xls uses xlrd (older), ensure xlrd installed
                        df = pd.read_excel(fpath, engine="xlrd")
                    else:
                        # default to .xlsx reading
                        df = pd.read_excel(fpath, engine="openpyxl")
                except Exception as e:
                    # If reading fails, log and inform UI; stop merging
                    msg = f"Failed to read {basename}: {e}"
                    logger.exception(msg)
                    self.queue.put(("error", msg))
                    self.queue.put(("stop_spinner",))
                    return
                dfs.append(df)
                read_counts.append(len(df))
                self.queue.put(("status", f"Read {len(df):,} rows from {basename}"))
            if not dfs:
                self.queue.put(("error", "No valid dataframes extracted from selected files."))
                self.queue.put(("stop_spinner",))
                return

            # Concatenate
            self.queue.put(("status", "Concatenating data..."))
            try:
                master = pd.concat(dfs, ignore_index=True, sort=False)
            except Exception as e:
                # Try more robust concat attempt
                logger.exception("Concat error: %s", e)
                # Try to union columns carefully
                master = pd.DataFrame()
                for df in dfs:
                    master = pd.concat([master, df], ignore_index=True, sort=False)
            self.master_df = master
            logger.info("Merge finished: total rows=%d cols=%d from %d files", master.shape[0], master.shape[1], total_files)
            # Send merged to main thread
            self.queue.put(("merged", master))
            self.queue.put(("stop_spinner",))
        except Exception as e:
            logger.exception("Unexpected error during merge: %s", e)
            self.queue.put(("error", f"Unexpected error: {e}"))
            self.queue.put(("stop_spinner",))

    def on_merge_finished(self, df):
        """Update UI after merge completes."""
        rows, cols = df.shape
        files_count = len(self.selected_files)
        self.counts_label.config(text=f"Files: {files_count} | Rows: {format_count(rows)} | Cols: {cols}")
        self.status_label.config(text=f"Merged {files_count} files: {format_count(rows)} rows, {cols} cols.")
        self.last_action_label.config(text=f"Last action: merged {files_count} files at {datetime.now().strftime('%Y-%m-%d %H:%M:%S')}")
        logger.info("Merge updated UI: rows=%d cols=%d files=%d", rows, cols, files_count)
        # Show preview
        self.show_preview(df.head(PREVIEW_ROWS))

    # ----------------------------
    # Google Sheets UI handlers (NEW)
    # ----------------------------
    def save_to_gs_handler(self):
        """Prompt for a title and create a new Google Sheet with master_df contents."""
        if self.master_df is None:
            messagebox.showinfo("No data", "Merge files first.")
            return
        # Ask for title
        title = simpledialog.askstring("Spreadsheet title", "Enter spreadsheet title (optional):")
        t = threading.Thread(target=self._save_to_gs_worker, args=(title or None,), daemon=True)
        t.start()

    def _save_to_gs_worker(self, title=None):
        try:
            self.queue.put(("start_spinner",))
            self.queue.put(("status", "Authenticating & uploading to Google Sheets..."))
            sid, url, s_title = save_df_to_google_sheets_oauth(self.master_df, spreadsheet_title=title)
            # Remember created sheet in-session
            self.created_gs_files.append({"title": s_title, "url": url, "id": sid})
            # Open sheet in browser
            try:
                webbrowser.open(url)
            except Exception:
                pass
            # Notify user
            messagebox.showinfo("Saved to Google Sheets", f"Created: {s_title}\n\n{url}")
            logger.info("Created spreadsheet: %s (%s)", s_title, url)
            self.queue.put(("status", f"Created Google Sheet: {s_title}"))
            self.last_action_label.config(text=f"Last action: created Google Sheet {s_title} at {datetime.now().strftime('%Y-%m-%d %H:%M:%S')}")
        except Exception as ex:
            logger.exception("Save to Google Sheets failed: %s", ex)
            messagebox.showerror("Google Sheets error", f"Failed to save to Google Sheets: {ex}")
            self.queue.put(("status", f"Save to Google Sheets failed: {ex}"))
        finally:
            self.queue.put(("stop_spinner",))

    def update_gs_by_id_handler(self):
        """Prompt for a spreadsheet ID and update it (if the app has permission)."""
        if self.master_df is None:
            messagebox.showinfo("No data", "Merge files first.")
            return
        sid = simpledialog.askstring("Spreadsheet ID", "Enter the spreadsheet ID (from its URL):")
        if not sid:
            return
        t = threading.Thread(target=self._update_gs_by_id_worker, args=(sid,), daemon=True)
        t.start()

    def _update_gs_by_id_worker(self, sid):
        try:
            self.queue.put(("start_spinner",))
            self.queue.put(("status", "Updating Google Sheet..."))
            url = update_existing_spreadsheet_by_id(self.master_df, sid)
            # Optionally add to created list if not present (we didn't create it but keep a record)
            found = next((x for x in self.created_gs_files if x.get("id") == sid), None)
            if not found:
                # Append so user can find it in session list
                self.created_gs_files.append({"title": f"UpdatedSheet_{sid[:8]}", "url": url, "id": sid})
            try:
                webbrowser.open(url)
            except Exception:
                pass
            messagebox.showinfo("Updated", f"Updated sheet: {url}")
            logger.info("Updated spreadsheet id=%s", sid)
            self.queue.put(("status", "Google Sheet updated."))
            self.last_action_label.config(text=f"Last action: updated Google Sheet {sid} at {datetime.now().strftime('%Y-%m-%d %H:%M:%S')}")
        except Exception as ex:
            logger.exception("Update failed: %s", ex)
            messagebox.showerror("Google Sheets error", f"Failed to update: {ex}")
            self.queue.put(("status", f"Update failed: {ex}"))
        finally:
            self.queue.put(("stop_spinner",))

    def show_created_sheets(self):
        """Show a small dialog listing sheets created (in this session)."""
        if not self.created_gs_files:
            messagebox.showinfo("Created Sheets", "No Google Sheets created in this session yet.")
            return
        text = "\n\n".join([f"Title: {s['title']}\nURL: {s['url']}" for s in self.created_gs_files])
        # Use a simple scrolled window
        dlg = tk.Toplevel(self)
        dlg.title("Created Google Sheets (this session)")
        dlg.geometry("700x400")
        txt = tk.Text(dlg, wrap="word")
        txt.pack(fill="both", expand=True)
        txt.insert("1.0", text)
        txt.config(state="disabled")
        ttk.Button(dlg, text="Close", command=dlg.destroy).pack(pady=6)

    # ----------------------------
    # Preview display (unchanged)
    # ----------------------------
    def show_preview(self, df_preview: pd.DataFrame):
        """Populate the preview treeview with df_preview (small)."""
        # Clear existing
        tree = self.preview_tree
        tree.delete(*tree.get_children())
        # Clear columns
        for col in tree["columns"]:
            tree.heading(col, text="")
        tree["columns"] = list(df_preview.columns)
        # Configure headings
        for col in df_preview.columns:
            tree.heading(col, text=str(col))
            # width estimation
            tree.column(col, width=120, anchor="w", stretch=True)
        # Insert rows
        for idx, row in df_preview.iterrows():
            vals = [str(row.get(c, "")) for c in df_preview.columns]
            tree.insert("", "end", values=vals)

    # ----------------------------
    # Full paginated view window (unchanged)
    # ----------------------------
    def open_full_view(self):
        if self.master_df is None:
            messagebox.showinfo("No data", "No merged master file available. Merge files first.")
            return
        window = tk.Toplevel(self)
        window.title("Full Merged View - Paginated")
        window.geometry("1000x600")

        page_size = tk.IntVar(value=int(self.page_size_var.get()))
        current_page = tk.IntVar(value=1)
        total_rows = len(self.master_df)
        total_pages = max(1, math.ceil(total_rows / page_size.get()))

        # header controls
        header = ttk.Frame(window)
        header.pack(side="top", fill="x", padx=6, pady=6)

        ttk.Label(header, text=f"Total rows: {format_count(total_rows)}").pack(side="left", padx=(0,12))
        lbl_page_info = ttk.Label(header, text=f"Page {current_page.get()} / {total_pages}")
        lbl_page_info.pack(side="right", padx=6)

        ttk.Label(header, text="Page size:").pack(side="left", padx=(12,2))
        page_size_spin = ttk.Spinbox(header, from_=10, to=10000, textvariable=page_size, width=8)
        page_size_spin.pack(side="left", padx=(0,6))

        # Treeview
        tv_frame = ttk.Frame(window)
        tv_frame.pack(fill="both", expand=True, padx=6, pady=6)

        tree = ttk.Treeview(tv_frame, show="headings")
        tree.pack(side="left", fill="both", expand=True)

        vsb = ttk.Scrollbar(tv_frame, orient="vertical", command=tree.yview)
        vsb.pack(side="right", fill="y")
        tree.configure(yscrollcommand=vsb.set)

        # pagination functions
        def display_page(page):
            nonlocal total_pages, total_rows
            ps = int(page_size.get())
            total_pages = max(1, math.ceil(total_rows / ps))
            current_page.set(max(1, min(page, total_pages)))
            start = (current_page.get() - 1) * ps
            end = min(total_rows, start + ps)
            subset = self.master_df.iloc[start:end]
            # rebuild tree columns
            tree.delete(*tree.get_children())
            tree["columns"] = list(subset.columns)
            for col in subset.columns:
                tree.heading(col, text=str(col))
                tree.column(col, width=120, anchor="w", stretch=True)
            # insert rows
            for i, row in subset.iterrows():
                vals = [str(row.get(c, "")) for c in subset.columns]
                tree.insert("", "end", values=vals)
            lbl_page_info.config(text=f"Page {current_page.get()} / {total_pages}")

        def on_prev():
            display_page(current_page.get() - 1)

        def on_next():
            display_page(current_page.get() + 1)

        def on_jump():
            try:
                p = int(jump_entry.get())
                display_page(p)
            except Exception:
                messagebox.showwarning("Invalid", "Please enter a valid page number.")

        # bottom controls
        ctrl = ttk.Frame(window)
        ctrl.pack(side="bottom", fill="x", padx=6, pady=6)
        btn_prev = ttk.Button(ctrl, text="Prev", command=on_prev)
        btn_prev.pack(side="left", padx=4)
        btn_next = ttk.Button(ctrl, text="Next", command=on_next)
        btn_next.pack(side="left", padx=4)
        ttk.Label(ctrl, text="Jump to page:").pack(side="left", padx=(12,4))
        jump_entry = ttk.Entry(ctrl, width=8)
        jump_entry.pack(side="left")
        ttk.Button(ctrl, text="Go", command=on_jump).pack(side="left", padx=6)

        ttk.Button(ctrl, text="Close", command=window.destroy).pack(side="right")
        # initially display page 1
        display_page(1)

    # ----------------------------
    # Save / Save & Email (unchanged)
    # ----------------------------
    def save_master(self):
        if self.master_df is None:
            messagebox.showinfo("No data", "No merged data to save. Merge files first.")
            return
        # ask where to save (allow excel or csv)
        initial_name = f"master_{timestamp_suffix()}.xlsx"
        path = filedialog.asksaveasfilename(
            defaultextension=".xlsx",
            initialfile=initial_name,
            filetypes=[("Excel files", "*.xlsx"), ("CSV files", "*.csv"), ("All files", "*.*")]
        )
        if not path:
            return

        # start spinner while saving
        self.queue.put(("start_spinner",))
        self.queue.put(("status", "Saving master file..."))
        try:
            safe_save_dataframe_to_path(self.master_df, path)
            # backup copy
            if self.config.get("backups_enabled", True):
                create_backups_folder()
                backup_name = f"master_{timestamp_suffix()}.xlsx" if not path.lower().endswith(".csv") else f"master_{timestamp_suffix()}.csv"
                backup_path = os.path.join(BACKUPS_DIR, backup_name)
                safe_save_dataframe_to_path(self.master_df, backup_path)
                logger.info("Saved master to %s and backup to %s", path, backup_path)
            else:
                logger.info("Saved master to %s (backups disabled)", path)
            messagebox.showinfo("Saved", f"Master file saved to:\n{path}")
            self.last_action_label.config(text=f"Last action: saved master to {os.path.basename(path)} at {datetime.now().strftime('%Y-%m-%d %H:%M:%S')}")
        except Exception as e:
            logger.exception("Error saving master: %s", e)
            messagebox.showerror("Save error", f"Failed to save file: {e}")
        finally:
            # stop spinner
            self.queue.put(("stop_spinner",))
            self.queue.put(("status", "Ready."))

    def save_and_email(self):
        """Save file (asks path) then prompt for recipients and send email in background."""
        if self.master_df is None:
            messagebox.showinfo("No data", "No merged data to save & email. Merge files first.")
            return
        initial_name = f"master_{timestamp_suffix()}.xlsx"
        path = filedialog.asksaveasfilename(
            defaultextension=".xlsx",
            initialfile=initial_name,
            filetypes=[("Excel files", "*.xlsx"), ("CSV files", "*.csv"), ("All files", "*.*")]
        )
        if not path:
            return
        # Show spinner while saving
        self.queue.put(("start_spinner",))
        self.queue.put(("status", "Saving master file for email..."))
        # Save first
        try:
            safe_save_dataframe_to_path(self.master_df, path)
            # backup
            if self.config.get("backups_enabled", True):
                create_backups_folder()
                # create backup with timestamp; ensure extension matches user's choice
                if path.lower().endswith(".csv"):
                    backup_path = os.path.join(BACKUPS_DIR, os.path.basename(path).replace(".csv", f"_{timestamp_suffix()}.csv"))
                else:
                    backup_path = os.path.join(BACKUPS_DIR, os.path.basename(path).replace(".xlsx", f"_{timestamp_suffix()}.xlsx"))
                safe_save_dataframe_to_path(self.master_df, backup_path)
            logger.info("Saved master for emailing: %s", path)
        except Exception as e:
            logger.exception("Save for email failed: %s", e)
            messagebox.showerror("Save error", f"Failed to save master before email: {e}")
            self.queue.put(("stop_spinner",))
            self.queue.put(("status", "Ready."))
            return
        finally:
            # stop spinner after save (email worker will start spinner for sending)
            self.queue.put(("stop_spinner",))
            self.queue.put(("status", "Saved — ready to send email."))

        # Ask recipients
        recipients_str = simpledialog.askstring("Recipients", "Enter recipient emails (comma separated):")
        if recipients_str is None:
            # user cancelled
            return
        recipients = [r.strip() for r in recipients_str.split(",") if r.strip()]
        invalid = [r for r in recipients if not EMAIL_REGEX.match(r)]
        if invalid:
            messagebox.showerror("Invalid emails", f"The following emails are invalid:\n{', '.join(invalid)}")
            return
        # start background email send
        t = threading.Thread(target=self._send_email_worker, args=(path, recipients), daemon=True)
        t.start()

    def _send_email_worker(self, path, recipients):
        """Background worker to send email; updates UI via queue."""
        self.queue.put(("start_spinner",))
        self.queue.put(("email_status", f"Sending email to {len(recipients)} recipients..."))
        logger.info("Sending email to %s (file: %s)", recipients, path)
        success_count = 0
        failed = []

        # choose method
        try:
            if self.config.get("use_gmail", True):
                # Using yagmail
                sender = self.config.get("sender_email", "")
                app_password = self.config.get("app_password", "")
                if not sender or not app_password:
                    raise RuntimeError("Gmail selected but sender_email or app_password not configured. Go to Settings and configure.")
                if yagmail is None:
                    raise RuntimeError("yagmail not installed. Install yagmail or choose SMTP in Settings.")
                # yagmail will raise if failure
                yag = yagmail.SMTP(user=sender, password=app_password)
                yag.send(to=recipients, subject=EMAIL_SUBJECT, contents=EMAIL_BODY, attachments=path)
                success_count = len(recipients)
                failed = []
            else:
                # Generic SMTP
                smtp_cfg = self.config.get("smtp", {})
                host = smtp_cfg.get("host", "")
                port = int(smtp_cfg.get("port", 587))
                username = smtp_cfg.get("username", "")
                password = smtp_cfg.get("password", "")
                use_tls = bool(smtp_cfg.get("use_tls", True))
                use_ssl = bool(smtp_cfg.get("use_ssl", False))
                if not host:
                    raise RuntimeError("SMTP host not configured in Settings.")
                # Prepare message
                msg = EmailMessage()
                msg["Subject"] = EMAIL_SUBJECT
                msg["From"] = username or self.config.get("sender_email", "")
                msg["To"] = ", ".join(recipients)
                msg.set_content(EMAIL_BODY)
                # attach file
                with open(path, "rb") as f:
                    filedata = f.read()
                # Attempt to set subtype intelligently
                maintype = "application"
                subtype = "vnd.openxmlformats-officedocument.spreadsheetml.sheet" if not path.lower().endswith(".csv") else "csv"
                msg.add_attachment(filedata, maintype=maintype, subtype=subtype, filename=os.path.basename(path))
                # Send
                if use_ssl:
                    server = smtplib.SMTP_SSL(host, port, timeout=30)
                else:
                    server = smtplib.SMTP(host, port, timeout=30)
                server.ehlo()
                if use_tls and not use_ssl:
                    server.starttls()
                if username and password:
                    server.login(username, password)
                server.send_message(msg)
                server.quit()
                success_count = len(recipients)
                failed = []
        except Exception as ex:
            # Log error and show to user
            logger.exception("Email sending failed: %s", ex)
            # Try to determine partial failures - in simple implementation we treat all as failed
            failed = recipients
            success_count = 0
            # Put error message in queue
            self.queue.put(("email_status", f"Email failed: {ex}"))
            self.queue.put(("email_result", (success_count, failed)))
            return

        # On success:
        self.queue.put(("email_status", "Email sent."))
        self.queue.put(("email_result", (success_count, failed)))
        logger.info("Email send completed: sent=%d failed=%s", success_count, failed)

    # ----------------------------
    # Settings dialog (unchanged)
    # ----------------------------
    def open_settings_dialog(self):
        dlg = tk.Toplevel(self)
        dlg.title("Settings")
        dlg.geometry("650x500")
        dlg.transient(self)

        # Notebook style tabs: Email settings, Watch & backups
        nb = ttk.Notebook(dlg)
        nb.pack(fill="both", expand=True, padx=8, pady=8)

        # --- Email tab ---
        frame_email = ttk.Frame(nb)
        nb.add(frame_email, text="Email")

        use_gmail_var = tk.BooleanVar(value=self.config.get("use_gmail", True))
        ttk.Radiobutton(frame_email, text="Use Gmail (yagmail & App Password)", variable=use_gmail_var, value=True).pack(anchor="w", padx=8, pady=4)
        ttk.Radiobutton(frame_email, text="Use Generic SMTP", variable=use_gmail_var, value=False).pack(anchor="w", padx=8, pady=(0,8))

        gmail_frame = ttk.LabelFrame(frame_email, text="Gmail (yagmail)")
        gmail_frame.pack(fill="x", padx=8, pady=6)

        sender_var = tk.StringVar(value=self.config.get("sender_email", ""))
        sender_entry = ttk.Entry(gmail_frame, textvariable=sender_var, width=40)
        ttk.Label(gmail_frame, text="Sender email:").pack(anchor="w", padx=6, pady=(6,0))
        sender_entry.pack(anchor="w", padx=6, pady=(0,6))

        app_pass_var = tk.StringVar(value=self.config.get("app_password", ""))
        ttk.Label(gmail_frame, text="App password (or do not save, leave blank):").pack(anchor="w", padx=6)
        app_pass_entry = ttk.Entry(gmail_frame, textvariable=app_pass_var, show="*")
        app_pass_entry.pack(anchor="w", padx=6, pady=(0,6))

        save_pass_var = tk.BooleanVar(value=self.config.get("save_password", False))
        ttk.Checkbutton(gmail_frame, text="Save password to config.json (NOT recommended)", variable=save_pass_var).pack(anchor="w", padx=6, pady=(0,6))

        # generic smtp
        smtp_frame = ttk.LabelFrame(frame_email, text="Generic SMTP")
        smtp_frame.pack(fill="x", padx=8, pady=6)

        smtp_host_var = tk.StringVar(value=self.config.get("smtp", {}).get("host", ""))
        smtp_port_var = tk.IntVar(value=self.config.get("smtp", {}).get("port", 587))
        smtp_user_var = tk.StringVar(value=self.config.get("smtp", {}).get("username", ""))
        smtp_pass_var = tk.StringVar(value=self.config.get("smtp", {}).get("password", ""))
        smtp_tls_var = tk.BooleanVar(value=self.config.get("smtp", {}).get("use_tls", True))
        smtp_ssl_var = tk.BooleanVar(value=self.config.get("smtp", {}).get("use_ssl", False))

        ttk.Label(smtp_frame, text="Host:").grid(row=0, column=0, padx=6, pady=4, sticky="w")
        ttk.Entry(smtp_frame, textvariable=smtp_host_var, width=30).grid(row=0, column=1, padx=6, pady=4, sticky="w")
        ttk.Label(smtp_frame, text="Port:").grid(row=0, column=2, padx=6, pady=4, sticky="w")
        ttk.Entry(smtp_frame, textvariable=smtp_port_var, width=8).grid(row=0, column=3, padx=6, pady=4, sticky="w")

        ttk.Label(smtp_frame, text="Username:").grid(row=1, column=0, padx=6, pady=4, sticky="w")
        ttk.Entry(smtp_frame, textvariable=smtp_user_var, width=30).grid(row=1, column=1, padx=6, pady=4, sticky="w")
        ttk.Label(smtp_frame, text="Password:").grid(row=1, column=2, padx=6, pady=4, sticky="w")
        ttk.Entry(smtp_frame, textvariable=smtp_pass_var, width=20, show="*").grid(row=1, column=3, padx=6, pady=4, sticky="w")

        ttk.Checkbutton(smtp_frame, text="Use TLS", variable=smtp_tls_var).grid(row=2, column=0, padx=6, pady=6, sticky="w")
        ttk.Checkbutton(smtp_frame, text="Use SSL", variable=smtp_ssl_var).grid(row=2, column=1, padx=6, pady=6, sticky="w")

        # --- Watch & backups tab ---
        frame_watch = ttk.Frame(nb)
        nb.add(frame_watch, text="Watch & Backups")

        backups_var = tk.BooleanVar(value=self.config.get("backups_enabled", True))
        ttk.Checkbutton(frame_watch, text="Enable backups (save copies to backups/)", variable=backups_var).pack(anchor="w", padx=8, pady=6)

        ttk.Label(frame_watch, text="Watch folder (optional):").pack(anchor="w", padx=8, pady=(6,0))
        watch_path_var = tk.StringVar(value=self.config.get("watch_folder", {}).get("path", ""))
        watch_entry = ttk.Entry(frame_watch, textvariable=watch_path_var, width=60)
        watch_entry.pack(anchor="w", padx=8, pady=(0,6))

        def choose_watch_path():
            p = filedialog.askdirectory(title="Choose folder to watch for new/modified Excel files")
            if p:
                watch_path_var.set(p)

        ttk.Button(frame_watch, text="Choose folder...", command=choose_watch_path).pack(anchor="w", padx=8, pady=(0,6))

        watch_enable_var = tk.BooleanVar(value=self.config.get("watch_folder", {}).get("enabled", False))
        ttk.Checkbutton(frame_watch, text="Enable watch folder on startup", variable=watch_enable_var).pack(anchor="w", padx=8, pady=4)

        auto_email_var = tk.BooleanVar(value=self.config.get("watch_folder", {}).get("auto_email_on_watch", False))
        ttk.Checkbutton(frame_watch, text="Auto-email when watch triggers (use recipients below)", variable=auto_email_var).pack(anchor="w", padx=8, pady=4)

        ttk.Label(frame_watch, text="Auto-email recipients (comma separated):").pack(anchor="w", padx=8, pady=(6,0))
        auto_recipients_var = tk.StringVar(value=self.config.get("watch_folder", {}).get("auto_email_recipients", ""))
        ttk.Entry(frame_watch, textvariable=auto_recipients_var, width=60).pack(anchor="w", padx=8, pady=(0,6))

        # page size default
        ttk.Label(frame_watch, text="Default page size for full view:").pack(anchor="w", padx=8, pady=(6,0))
        page_size_default_var = tk.IntVar(value=self.config.get("page_size_default", DEFAULT_PAGE_SIZE))
        ttk.Spinbox(frame_watch, from_=10, to=5000, textvariable=page_size_default_var, width=10).pack(anchor="w", padx=8, pady=(0,6))

        # Save/Cancel buttons
        btn_frame = ttk.Frame(dlg)
        btn_frame.pack(side="bottom", fill="x", padx=8, pady=8)
        def on_save_settings():
            # gather settings
            self.config["use_gmail"] = bool(use_gmail_var.get())
            self.config["sender_email"] = sender_var.get().strip()
            if save_pass_var.get():
                # user chose to save password
                self.config["app_password"] = app_pass_var.get()
            else:
                # clear saved password if user chooses not to save
                self.config["app_password"] = "" if not self.config.get("save_password", False) else self.config.get("app_password", "")
            self.config["save_password"] = bool(save_pass_var.get())

            self.config["smtp"]["host"] = smtp_host_var.get().strip()
            self.config["smtp"]["port"] = int(smtp_port_var.get())
            self.config["smtp"]["username"] = smtp_user_var.get().strip()
            self.config["smtp"]["password"] = smtp_pass_var.get()
            self.config["smtp"]["use_tls"] = bool(smtp_tls_var.get())
            self.config["smtp"]["use_ssl"] = bool(smtp_ssl_var.get())

            self.config["backups_enabled"] = bool(backups_var.get())
            self.config["watch_folder"]["enabled"] = bool(watch_enable_var.get())
            self.config["watch_folder"]["path"] = watch_path_var.get().strip()
            self.config["watch_folder"]["auto_email_on_watch"] = bool(auto_email_var.get())
            self.config["watch_folder"]["auto_email_recipients"] = auto_recipients_var.get().strip()
            self.config["page_size_default"] = int(page_size_default_var.get())

            # Save to disk
            save_config(self.config)
            # update page size var live
            try:
                self.page_size_var.set(int(page_size_default_var.get()))
            except Exception:
                pass

            # if watch enabled, start/stop appropriately
            if self.config["watch_folder"]["enabled"]:
                path_to_watch = self.config["watch_folder"]["path"]
                if path_to_watch:
                    try:
                        self.start_watch(path_to_watch)
                    except Exception as e:
                        logger.exception("Failed starting watch: %s", e)
                        messagebox.showerror("Watch error", f"Failed to start watch: {e}")
                else:
                    messagebox.showwarning("Watch", "Watch enabled but no folder path provided.")
            else:
                if self._watching:
                    self.stop_watch()

            dlg.destroy()
            messagebox.showinfo("Settings", "Settings saved.")
        ttk.Button(btn_frame, text="Save", command=on_save_settings).pack(side="right", padx=6)
        ttk.Button(btn_frame, text="Cancel", command=dlg.destroy).pack(side="right")

    # ----------------------------
    # Watch folder control functions (unchanged)
    # ----------------------------
    def choose_watch_folder(self):
        p = filedialog.askdirectory(title="Select folder to watch for new/modified Excel files")
        if p:
            self.config["watch_folder"]["path"] = p
            save_config(self.config)
            self.status_label.config(text=f"Watch folder set: {p}")

    def on_watch_toggle(self):
        enabled = self.watch_var.get()
        self.config["watch_folder"]["enabled"] = bool(enabled)
        save_config(self.config)
        if enabled:
            path = self.config.get("watch_folder", {}).get("path", "")
            if not path:
                messagebox.showinfo("Watch Folder", "Please choose a watch folder first (Choose Watch Folder button).")
                self.watch_var.set(False)
                self.config["watch_folder"]["enabled"] = False
                save_config(self.config)
                return
            if Observer is None:
                messagebox.showerror("Watch folder unavailable", "watchdog package is not installed. Install it with `pip install watchdog` to use watch mode.")
                self.watch_var.set(False)
                self.config["watch_folder"]["enabled"] = False
                save_config(self.config)
                return
            try:
                self.start_watch(path)
                messagebox.showinfo("Watch", f"Started watching: {path}")
            except Exception as e:
                logger.exception("Failed to start watch: %s", e)
                messagebox.showerror("Watch error", f"Failed to start watching folder: {e}")
        else:
            self.stop_watch()
            messagebox.showinfo("Watch", "Watch stopped.")

    def start_watch(self, path):
        """Start watchdog observer in background."""
        if Observer is None:
            raise RuntimeError("watchdog not available (pip install watchdog).")
        if not os.path.isdir(path):
            raise RuntimeError("Path is not a directory.")
        if self._watching:
            # stop previous
            self.stop_watch()
        self.watch_handler = ExcelWatchHandler(self)
        self.watch_observer = Observer()
        self.watch_observer.schedule(self.watch_handler, path, recursive=False)
        self.watch_observer.start()
        self._watching = True
        logger.info("Watch started on %s", path)
        self.status_label.config(text=f"Watching: {path}")

    def stop_watch(self):
        try:
            if self.watch_observer:
                self.watch_observer.stop()
                self.watch_observer.join(timeout=2)
        except Exception:
            pass
        self.watch_observer = None
        self.watch_handler = None
        self._watching = False
        logger.info("Watch stopped.")
        self.status_label.config(text="Watch stopped.")

    def handle_watch_event(self, path):
        """Triggered when watchdog queue reports a new/modified excel file."""
        # Behavior: if watch triggers, merge all files in folder that match extension (.xlsx/.xls only)
        folder = os.path.dirname(path)
        self.status_label.config(text=f"Watch triggered by {os.path.basename(path)}")
        # gather all xlsx/xls files in folder
        files = [os.path.join(folder, f) for f in os.listdir(folder) if f.lower().endswith((".xlsx", ".xls"))]
        files.sort()
        # set selected files to the full list and merge
        self.selected_files = files
        logger.info("Watch merging %d files from %s", len(files), folder)
        # Start merge
        t = threading.Thread(target=self._merge_worker, args=(files,), daemon=True)
        t.start()
        # If auto-email enabled, send after merge completes (merge will set self.master_df)
        # We'll spawn a watcher thread that waits for merge completion then sends
        if self.config.get("watch_folder", {}).get("auto_email_on_watch", False):
            recipients_str = self.config.get("watch_folder", {}).get("auto_email_recipients", "")
            if recipients_str.strip():
                recipients = [r.strip() for r in recipients_str.split(",") if r.strip()]
                # Wait for merge to complete in background and then send
                def wait_and_send():
                    # naive polling for master_df population
                    # Wait up to 60 seconds for merge to complete
                    waited = 0
                    while waited < 60:
                        if self.master_df is not None and len(self.master_df) > 0:
                            break
                        time.sleep(1)
                        waited += 1
                    # If we have master_df, save to a backup file and send email
                    if self.master_df is None:
                        logger.warning("Auto-email: merge did not complete in time.")
                        return
                    create_backups_folder()
                    auto_path = os.path.join(BACKUPS_DIR, f"auto_master_{timestamp_suffix()}.xlsx")
                    try:
                        safe_save_dataframe_to_path(self.master_df, auto_path)
                        logger.info("Auto-email saved merged file to %s", auto_path)
                        # send email using same worker
                        self._send_email_worker(auto_path, recipients)
                    except Exception as ex:
                        logger.exception("Auto-email flow failed: %s", ex)
                threading.Thread(target=wait_and_send, daemon=True).start()
            else:
                logger.warning("Auto-email enabled but no recipients configured.")

    # ----------------------------
    # Backups folder opener (unchanged)
    # ----------------------------
    def open_backups_folder(self):
        if not os.path.exists(BACKUPS_DIR):
            messagebox.showinfo("Backups", "No backups folder exists yet.")
            return
        open_folder(BACKUPS_DIR)

# ----------------------------
# CLI / run
# ----------------------------
def ensure_requirements_hint():
    missing = []
    try:
        import pandas  # noqa
    except Exception:
        missing.append("pandas")
    if yagmail is None:
        # not required, but recommended
        pass
    if Observer is None:
        pass
    return missing

def main():
    missing = ensure_requirements_hint()
    if missing:
        msg = "Some required packages appear to be missing: " + ", ".join(missing)
        print(msg)
    app = ExcelMergeApp()
    app.mainloop()

if __name__ == "__main__":
    main()
